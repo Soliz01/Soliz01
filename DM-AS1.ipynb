{
 "cells": [
  {
   "cell_type": "code",
   "execution_count": 1,
   "id": "680e6475",
   "metadata": {},
   "outputs": [],
   "source": [
    "import pandas as pd\n",
    "import numpy as np"
   ]
  },
  {
   "cell_type": "code",
   "execution_count": 9,
   "id": "c5c3e262",
   "metadata": {},
   "outputs": [
    {
     "name": "stderr",
     "output_type": "stream",
     "text": [
      "/var/folders/kb/0x92rjhj6sv7m35fzwj8rqm00000gn/T/ipykernel_48336/1997690633.py:4: FutureWarning: The 'delim_whitespace' keyword in pd.read_csv is deprecated and will be removed in a future version. Use ``sep='\\s+'`` instead\n",
      "  df = pd.read_csv(\"Asgmnt1_data.txt\", delim_whitespace=True, header=None)\n"
     ]
    }
   ],
   "source": [
    "# Use function: delim_whitespace=True\n",
    "# to automatically split on any whitespace\n",
    "\n",
    "df = pd.read_csv(\"Asgmnt1_data.txt\", delim_whitespace=True, header=None)\n",
    "\n"
   ]
  },
  {
   "cell_type": "code",
   "execution_count": 12,
   "id": "1f63ec16",
   "metadata": {},
   "outputs": [
    {
     "name": "stdout",
     "output_type": "stream",
     "text": [
      "(16000, 128)\n",
      "          0           1           2           3           4           5    \\\n",
      "0   49.453511   37.213064   38.600731   47.251342   21.792191   12.224262   \n",
      "1  116.351130  119.300940  115.335630  102.958480   93.892301  112.556110   \n",
      "2  -64.330794  -41.407368  -11.183825   27.777015  -20.535299   21.397063   \n",
      "3  -27.522102  -33.564326 -100.076630  -61.023008  -53.938068  -73.929577   \n",
      "4  157.764140  155.667740  183.326010  173.800080  176.371980  136.548550   \n",
      "\n",
      "          6           7           8           9    ...         118  \\\n",
      "0   -3.713649  -34.253242  -26.037303  -15.913134  ...  105.555050   \n",
      "1  100.270700  104.207060  130.333430  141.496550  ...   53.871534   \n",
      "2  -16.168908   12.465869   11.441911   29.623230  ...  -97.474761   \n",
      "3  -70.363867  -53.234154  -77.713490 -131.928860  ...   50.261319   \n",
      "4  163.214940  139.592290  128.174920  155.566850  ...  165.444990   \n",
      "\n",
      "          119         120         121         122         123         124  \\\n",
      "0  112.771820   64.018661   73.906229   62.427622   63.960572   67.859560   \n",
      "1   63.055270   74.016262   88.257188   59.219441   50.124172   81.246127   \n",
      "2 -120.494490 -107.984940 -105.931780  -45.866669  -91.841673  -73.001972   \n",
      "3   63.513669   29.614749   29.953312   14.741438   30.688229   15.397800   \n",
      "4  193.081420  199.750760  196.926250  170.346200  179.002360  175.124690   \n",
      "\n",
      "          125         126         127  \n",
      "0   42.176419   64.498517   50.860794  \n",
      "1   70.523915   98.930395   56.567807  \n",
      "2  -80.338373  -37.637625  -49.280448  \n",
      "3  -15.530927  -21.750098    2.917459  \n",
      "4  205.134190  180.287570  192.321500  \n",
      "\n",
      "[5 rows x 128 columns]\n",
      "                0             1             2             3             4    \\\n",
      "count  16000.000000  16000.000000  16000.000000  16000.000000  16000.000000   \n",
      "mean      -0.074621      0.112069     -0.190868     -0.050737     -0.294575   \n",
      "std       83.948193     83.938165     84.133279     84.187540     84.000164   \n",
      "min     -241.336310   -238.940640   -235.465100   -237.617820   -239.306580   \n",
      "25%      -53.810901    -52.072416    -52.995044    -52.115745    -53.667936   \n",
      "50%        0.482707     -0.529663     -0.356535      0.118203     -0.157852   \n",
      "75%       53.235015     54.384470     52.868918     52.644818     53.034928   \n",
      "max      239.858310    235.903990    241.081910    243.382410    239.928230   \n",
      "\n",
      "                5             6             7             8             9    \\\n",
      "count  16000.000000  16000.000000  16000.000000  16000.000000  16000.000000   \n",
      "mean       0.089733     -0.416927     -0.365114     -0.447367     -0.775792   \n",
      "std       83.981864     83.899762     83.892769     84.071610     83.935416   \n",
      "min     -246.134680   -236.871730   -244.493770   -241.010360   -246.364520   \n",
      "25%      -52.517813    -54.028640    -54.009547    -54.020007    -55.575913   \n",
      "50%       -0.044852      0.021975     -0.566461     -0.777398     -0.749224   \n",
      "75%       54.028905     52.491190     53.106958     52.981380     52.496657   \n",
      "max      242.727840    239.421680    242.113990    246.785430    240.426360   \n",
      "\n",
      "       ...           118           119           120           121  \\\n",
      "count  ...  16000.000000  16000.000000  16000.000000  16000.000000   \n",
      "mean   ...     -0.446307      0.115279      0.008617     -0.169559   \n",
      "std    ...     83.623495     83.594897     83.893106     83.223798   \n",
      "min    ...   -234.252320   -255.864000   -260.558420   -231.578990   \n",
      "25%    ...    -53.507821    -52.806556    -53.140778    -52.863742   \n",
      "50%    ...     -0.503863     -0.195910      0.532903     -0.076826   \n",
      "75%    ...     53.387663     53.974976     53.797696     52.217639   \n",
      "max    ...    236.024350    238.703680    250.121130    231.891710   \n",
      "\n",
      "                122           123           124           125           126  \\\n",
      "count  16000.000000  16000.000000  16000.000000  16000.000000  16000.000000   \n",
      "mean      -0.081722     -0.149371     -0.114651     -0.126577     -0.194616   \n",
      "std       83.622894     83.566917     83.437602     83.762306     83.627046   \n",
      "min     -234.697370   -239.812930   -242.975120   -234.738170   -243.165650   \n",
      "25%      -52.543315    -52.831343    -53.486091    -53.546703    -54.507548   \n",
      "50%       -0.044339      0.111572      0.153162      0.125545      0.579562   \n",
      "75%       53.086212     52.949131     52.874989     53.708435     53.456483   \n",
      "max      228.634110    259.640550    240.983650    251.495800    246.113500   \n",
      "\n",
      "                127  \n",
      "count  16000.000000  \n",
      "mean      -0.114687  \n",
      "std       83.737307  \n",
      "min     -248.879610  \n",
      "25%      -53.980635  \n",
      "50%        0.086964  \n",
      "75%       53.354209  \n",
      "max      243.391940  \n",
      "\n",
      "[8 rows x 128 columns]\n"
     ]
    }
   ],
   "source": [
    "print(df.shape)\n",
    "print(df.head())\n",
    "print(df.describe())"
   ]
  },
  {
   "cell_type": "code",
   "execution_count": null,
   "id": "476e0209",
   "metadata": {},
   "outputs": [
    {
     "name": "stdout",
     "output_type": "stream",
     "text": [
      "                0             1             2             3             4    \\\n",
      "count  16000.000000  16000.000000  16000.000000  16000.000000  16000.000000   \n",
      "mean      -0.074621      0.112069     -0.190868     -0.050737     -0.294575   \n",
      "std       83.948193     83.938165     84.133279     84.187540     84.000164   \n",
      "min     -241.336310   -238.940640   -235.465100   -237.617820   -239.306580   \n",
      "25%      -53.810901    -52.072416    -52.995044    -52.115745    -53.667936   \n",
      "50%        0.482707     -0.529663     -0.356535      0.118203     -0.157852   \n",
      "75%       53.235015     54.384470     52.868918     52.644818     53.034928   \n",
      "max      239.858310    235.903990    241.081910    243.382410    239.928230   \n",
      "\n",
      "                5             6             7             8             9    \\\n",
      "count  16000.000000  16000.000000  16000.000000  16000.000000  16000.000000   \n",
      "mean       0.089733     -0.416927     -0.365114     -0.447367     -0.775792   \n",
      "std       83.981864     83.899762     83.892769     84.071610     83.935416   \n",
      "min     -246.134680   -236.871730   -244.493770   -241.010360   -246.364520   \n",
      "25%      -52.517813    -54.028640    -54.009547    -54.020007    -55.575913   \n",
      "50%       -0.044852      0.021975     -0.566461     -0.777398     -0.749224   \n",
      "75%       54.028905     52.491190     53.106958     52.981380     52.496657   \n",
      "max      242.727840    239.421680    242.113990    246.785430    240.426360   \n",
      "\n",
      "       ...           118           119           120           121  \\\n",
      "count  ...  16000.000000  16000.000000  16000.000000  16000.000000   \n",
      "mean   ...     -0.446307      0.115279      0.008617     -0.169559   \n",
      "std    ...     83.623495     83.594897     83.893106     83.223798   \n",
      "min    ...   -234.252320   -255.864000   -260.558420   -231.578990   \n",
      "25%    ...    -53.507821    -52.806556    -53.140778    -52.863742   \n",
      "50%    ...     -0.503863     -0.195910      0.532903     -0.076826   \n",
      "75%    ...     53.387663     53.974976     53.797696     52.217639   \n",
      "max    ...    236.024350    238.703680    250.121130    231.891710   \n",
      "\n",
      "                122           123           124           125           126  \\\n",
      "count  16000.000000  16000.000000  16000.000000  16000.000000  16000.000000   \n",
      "mean      -0.081722     -0.149371     -0.114651     -0.126577     -0.194616   \n",
      "std       83.622894     83.566917     83.437602     83.762306     83.627046   \n",
      "min     -234.697370   -239.812930   -242.975120   -234.738170   -243.165650   \n",
      "25%      -52.543315    -52.831343    -53.486091    -53.546703    -54.507548   \n",
      "50%       -0.044339      0.111572      0.153162      0.125545      0.579562   \n",
      "75%       53.086212     52.949131     52.874989     53.708435     53.456483   \n",
      "max      228.634110    259.640550    240.983650    251.495800    246.113500   \n",
      "\n",
      "                127  \n",
      "count  16000.000000  \n",
      "mean      -0.114687  \n",
      "std       83.737307  \n",
      "min     -248.879610  \n",
      "25%      -53.980635  \n",
      "50%        0.086964  \n",
      "75%       53.354209  \n",
      "max      243.391940  \n",
      "\n",
      "[8 rows x 128 columns]\n",
      "0     -0.074621\n",
      "1      0.112069\n",
      "2     -0.190868\n",
      "3     -0.050737\n",
      "4     -0.294575\n",
      "         ...   \n",
      "123   -0.149371\n",
      "124   -0.114651\n",
      "125   -0.126577\n",
      "126   -0.194616\n",
      "127   -0.114687\n",
      "Length: 128, dtype: float64\n",
      "0      0.482707\n",
      "1     -0.529663\n",
      "2     -0.356535\n",
      "3      0.118203\n",
      "4     -0.157852\n",
      "         ...   \n",
      "123    0.111572\n",
      "124    0.153162\n",
      "125    0.125545\n",
      "126    0.579562\n",
      "127    0.086964\n",
      "Length: 128, dtype: float64\n",
      "0      83.948193\n",
      "1      83.938165\n",
      "2      84.133279\n",
      "3      84.187540\n",
      "4      84.000164\n",
      "         ...    \n",
      "123    83.566917\n",
      "124    83.437602\n",
      "125    83.762306\n",
      "126    83.627046\n",
      "127    83.737307\n",
      "Length: 128, dtype: float64\n"
     ]
    }
   ],
   "source": [
    "print(df.describe())  # Gives stats of data frame: mean, median, std\n",
    "print(df.mean())      # Mean of each column\n",
    "print(df.median())    # Median of each column\n",
    "print(df.std())       # Std deviation of each column\n"
   ]
  },
  {
   "cell_type": "code",
   "execution_count": 20,
   "id": "78af5daf",
   "metadata": {},
   "outputs": [],
   "source": [
    "##Lets convert to Numpy for efficiency\n",
    "##Make a copy of your data\n",
    "data = df.to_numpy().copy()"
   ]
  },
  {
   "cell_type": "code",
   "execution_count": 16,
   "id": "c21f7314",
   "metadata": {},
   "outputs": [
    {
     "name": "stdout",
     "output_type": "stream",
     "text": [
      "<class 'numpy.ndarray'>\n",
      "(16000, 128)\n"
     ]
    }
   ],
   "source": [
    "##check to see if it worked\n",
    "print(type(data))   \n",
    "print(data.shape)\n",
    "\n",
    "#check for non-numeric values before we begin computations\n",
    "data = df.to_numpy(dtype=float)\n"
   ]
  },
  {
   "cell_type": "code",
   "execution_count": null,
   "id": "72dedfb6",
   "metadata": {},
   "outputs": [],
   "source": [
    "#Row-Wise Z-Score Normalization \n",
    "row_mean = np.mean(data, axis=1, keepdims=True)\n",
    "row_std = np.std(data, axis=1, keepdims=True)\n",
    "data_z = (data - row_mean) / row_std\n"
   ]
  },
  {
   "cell_type": "code",
   "execution_count": 23,
   "id": "f721626a",
   "metadata": {},
   "outputs": [],
   "source": [
    "#Begin computations & time each computation\n",
    "\n",
    "import time\n",
    "\n",
    "def time_function(func, *args, **kwargs):\n",
    "    start = time.perf_counter()\n",
    "    result = func(*args, **kwargs)\n",
    "    end = time.perf_counter()\n",
    "    elapsed = end - start\n",
    "    print(f\"{func.__name__} took {elapsed:.6f} seconds\")\n",
    "    return result, elapsed"
   ]
  },
  {
   "cell_type": "markdown",
   "id": "e098a6dc",
   "metadata": {},
   "source": [
    "## Here is a note on the code I just used:\n",
    "I want to measure how long a function takes to run.\n",
    "\n",
    "Parameters:\n",
    "func : function to run\n",
    "*args : positional arguments for the function\n",
    "**kwargs : keyword arguments for the function\n",
    "\n",
    "Returns:\n",
    "result : the return value of the function \n",
    "elapsed : time taken in seconds"
   ]
  },
  {
   "cell_type": "code",
   "execution_count": null,
   "id": "f8d8a2ee",
   "metadata": {},
   "outputs": [],
   "source": [
    "#compute distance matrix using Euclidean distance"
   ]
  },
  {
   "cell_type": "code",
   "execution_count": null,
   "id": "267607cb",
   "metadata": {},
   "outputs": [],
   "source": [
    "#PCA "
   ]
  },
  {
   "cell_type": "code",
   "execution_count": null,
   "id": "026bf010",
   "metadata": {},
   "outputs": [],
   "source": [
    "#Harr Wavelet transformation\n",
    "import pywt\n",
    "\n",
    "coeffs_list = [pywt.wavedec(row, 'haar') for row in data_z]\n",
    "approx_list = [coeffs[0] for coeffs in coeffs_list]"
   ]
  },
  {
   "cell_type": "markdown",
   "id": "3e95509c",
   "metadata": {},
   "source": [
    "\n",
    "\n",
    "4. Apply Haar Wavelet Transform Row-Wise\n",
    "\n",
    "import pywt\n",
    "\n",
    "# Get only approximation coefficients (length will be 95)\n",
    "coeffs = np.apply_along_axis(lambda row: pywt.dwt(row, 'haar')[0], axis=1, arr=normalized)\n",
    "\n",
    "\n",
    "---\n",
    "\n",
    "✅ Optional: Convert Back to Pandas\n",
    "\n",
    "If you want to put the result back in a DataFrame:\n",
    "\n",
    "coeffs_df = pd.DataFrame(coeffs)\n",
    "\n",
    "Or save it to CSV:\n",
    "\n",
    "coeffs_df.to_csv(\"haar_transformed.csv\", index=False, header=False)\n",
    "\n",
    "\n",
    "---\n",
    "\n",
    "🔁 Summary\n",
    "\n",
    "Task\tCode\n",
    "\n",
    "Pandas → NumPy\tdf.to_numpy()\n",
    "Row Z-score\t(data - row_means) / row_stds\n",
    "Haar DWT\tpywt.dwt(row, 'haar') via apply_along_axis'''"
   ]
  },
  {
   "cell_type": "code",
   "execution_count": null,
   "id": "3c5e13f2",
   "metadata": {},
   "outputs": [],
   "source": []
  },
  {
   "cell_type": "code",
   "execution_count": null,
   "id": "0b162df9",
   "metadata": {},
   "outputs": [],
   "source": []
  }
 ],
 "metadata": {
  "kernelspec": {
   "display_name": "Python (dm-kern)",
   "language": "python",
   "name": "dm-kern"
  },
  "language_info": {
   "codemirror_mode": {
    "name": "ipython",
    "version": 3
   },
   "file_extension": ".py",
   "mimetype": "text/x-python",
   "name": "python",
   "nbconvert_exporter": "python",
   "pygments_lexer": "ipython3",
   "version": "3.11.7"
  }
 },
 "nbformat": 4,
 "nbformat_minor": 5
}
